{
 "cells": [
  {
   "cell_type": "markdown",
   "metadata": {
    "collapsed": true,
    "deletable": true,
    "editable": true
   },
   "source": [
    "# Image Classification\n",
    "In this project, I was able to classify images from the [CIFAR-10 dataset](https://www.cs.toronto.edu/~kriz/cifar.html).  The dataset consists of airplanes, dogs, cats, and other objects. This was done by preprocessing the images, then training a convolutional neural network on all the samples. The images needed to be normalized and the labels need to be one-hot encoded. The convolutional neural network consisted of convolutional, max pooling, dropout, and fully connected layers.  At the end, you'll see the neural network's predictions on the sample images.\n",
    "## Get the Data\n",
    "Run the following cell to download the [CIFAR-10 dataset for python](https://www.cs.toronto.edu/~kriz/cifar-10-python.tar.gz)."
   ]
  },
  {
   "cell_type": "code",
   "execution_count": 1,
   "metadata": {
    "collapsed": false,
    "deletable": true,
    "editable": true
   },
   "outputs": [
    {
     "name": "stderr",
     "output_type": "stream",
     "text": [
      "CIFAR-10 Dataset: 171MB [01:24, 2.01MB/s]                              \n"
     ]
    },
    {
     "name": "stdout",
     "output_type": "stream",
     "text": [
      "All files found!\n"
     ]
    }
   ],
   "source": [
    "\"\"\"\n",
    "DON'T MODIFY ANYTHING IN THIS CELL THAT IS BELOW THIS LINE\n",
    "\"\"\"\n",
    "from urllib.request import urlretrieve\n",
    "from os.path import isfile, isdir\n",
    "from tqdm import tqdm\n",
    "import problem_unittests as tests\n",
    "import tarfile\n",
    "\n",
    "cifar10_dataset_folder_path = 'cifar-10-batches-py'\n",
    "\n",
    "# Use Floyd's cifar-10 dataset if present\n",
    "floyd_cifar10_location = '/input/cifar-10/python.tar.gz'\n",
    "if isfile(floyd_cifar10_location):\n",
    "    tar_gz_path = floyd_cifar10_location\n",
    "else:\n",
    "    tar_gz_path = 'cifar-10-python.tar.gz'\n",
    "\n",
    "class DLProgress(tqdm):\n",
    "    last_block = 0\n",
    "\n",
    "    def hook(self, block_num=1, block_size=1, total_size=None):\n",
    "        self.total = total_size\n",
    "        self.update((block_num - self.last_block) * block_size)\n",
    "        self.last_block = block_num\n",
    "\n",
    "if not isfile('cifar-10-python.tar.gz'):\n",
    "    with DLProgress(unit='B', unit_scale=True, miniters=1, desc='CIFAR-10 Dataset') as pbar:\n",
    "        urlretrieve(\n",
    "            'https://www.cs.toronto.edu/~kriz/cifar-10-python.tar.gz',\n",
    "            'cifar-10-python.tar.gz',\n",
    "            pbar.hook)\n",
    "\n",
    "if not isdir(cifar10_dataset_folder_path):\n",
    "    with tarfile.open('cifar-10-python.tar.gz') as tar:\n",
    "        tar.extractall()\n",
    "        tar.close()\n",
    "\n",
    "\n",
    "tests.test_folder_path(cifar10_dataset_folder_path)"
   ]
  },
  {
   "cell_type": "markdown",
   "metadata": {
    "deletable": true,
    "editable": true
   },
   "source": [
    "## Explore the Data\n",
    "The dataset is broken into batches to prevent running out of memory.  The CIFAR-10 dataset consists of 5 batches, named `data_batch_1`, `data_batch_2`, etc.. Each batch contains the labels and images that are one of the following:\n",
    "* airplane\n",
    "* automobile\n",
    "* bird\n",
    "* cat\n",
    "* deer\n",
    "* dog\n",
    "* frog\n",
    "* horse\n",
    "* ship\n",
    "* truck\n",
    "\n",
    "Understanding a dataset is part of making predictions on the data.  Play around with the code cell below by changing the `batch_id` and `sample_id`. The `batch_id` is the id for a batch (1-5). The `sample_id` is the id for a image and label pair in the batch."
   ]
  },
  {
   "cell_type": "code",
   "execution_count": 2,
   "metadata": {
    "collapsed": false,
    "deletable": true,
    "editable": true
   },
   "outputs": [
    {
     "name": "stdout",
     "output_type": "stream",
     "text": [
      "\n",
      "Stats of batch 1:\n",
      "Samples: 10000\n",
      "Label Counts: {0: 1005, 1: 974, 2: 1032, 3: 1016, 4: 999, 5: 937, 6: 1030, 7: 1001, 8: 1025, 9: 981}\n",
      "First 20 Labels: [6, 9, 9, 4, 1, 1, 2, 7, 8, 3, 4, 7, 7, 2, 9, 9, 9, 3, 2, 6]\n",
      "\n",
      "Example of Image 5:\n",
      "Image - Min Value: 0 Max Value: 252\n",
      "Image - Shape: (32, 32, 3)\n",
      "Label - Label Id: 1 Name: automobile\n"
     ]
    },
    {
     "data": {
      "image/png": "[encoded data removed]",
      "text/plain": [
       "<matplotlib.figure.Figure at 0x7f8f985cc160>"
      ]
     },
     "metadata": {
      "image/png": {
       "height": 250,
       "width": 253
      }
     },
     "output_type": "display_data"
    }
   ],
   "source": [
    "%matplotlib inline\n",
    "%config InlineBackend.figure_format = 'retina'\n",
    "\n",
    "import helper\n",
    "import numpy as np\n",
    "\n",
    "# Explore the dataset\n",
    "batch_id = 1\n",
    "sample_id = 5\n",
    "helper.display_stats(cifar10_dataset_folder_path, batch_id, sample_id)"
   ]
  },
  {
   "cell_type": "markdown",
   "metadata": {
    "deletable": true,
    "editable": true
   },
   "source": [
    "## Implement Preprocess Functions\n",
    "### Normalize\n",
    "In the cell below, I implement the `normalize` function to take in image data, `x`, and return it as a normalized Numpy array. The values should be in the range of 0 to 1, inclusive.  The return object should be the same shape as `x`."
   ]
  },
  {
   "cell_type": "code",
   "execution_count": 3,
   "metadata": {
    "collapsed": false,
    "deletable": true,
    "editable": true
   },
   "outputs": [
    {
     "name": "stdout",
     "output_type": "stream",
     "text": [
      "Tests Passed\n"
     ]
    }
   ],
   "source": [
    "def normalize(x):\n",
    "    \"\"\"\n",
    "    Normalize a list of sample image data in the range of 0 to 1\n",
    "    : x: List of image data.  The image shape is (32, 32, 3)\n",
    "    : return: Numpy array of normalize data\n",
    "    \"\"\"\n",
    "    # Implement Function\n",
    "    a = 0.\n",
    "    b = 1.\n",
    "    min = 0\n",
    "    max = 255\n",
    "    \n",
    "    \n",
    "    return a + (((x - min)*(b - a))/(max - min))\n",
    "\n",
    "\n",
    "\"\"\"\n",
    "DON'T MODIFY ANYTHING IN THIS CELL THAT IS BELOW THIS LINE\n",
    "\"\"\"\n",
    "tests.test_normalize(normalize)"
   ]
  },
  {
   "cell_type": "markdown",
   "metadata": {
    "deletable": true,
    "editable": true
   },
   "source": [
    "### One-hot encode\n",
    "This time, I implement the `one_hot_encode` function for preprocessing. The input, `x`, are a list of labels. The function will return the list of labels as One-Hot encoded Numpy array.  The possible values for labels are 0 to 9. The one-hot encoding function should return the same encoding for each value between each call to `one_hot_encode`.  "
   ]
  },
  {
   "cell_type": "code",
   "execution_count": 4,
   "metadata": {
    "collapsed": false,
    "deletable": true,
    "editable": true
   },
   "outputs": [
    {
     "name": "stdout",
     "output_type": "stream",
     "text": [
      "Tests Passed\n"
     ]
    }
   ],
   "source": [
    "from sklearn import preprocessing\n",
    "def one_hot_encode(x):\n",
    "    \"\"\"\n",
    "    One hot encode a list of sample labels. Return a one-hot encoded vector for each label.\n",
    "    : x: List of sample Labels\n",
    "    : return: Numpy array of one-hot encoded labels\n",
    "    \"\"\"\n",
    "    # Implement Function\n",
    "    encode = preprocessing.LabelBinarizer()\n",
    "    encode.fit([0,1,2,3,4,5,6,7,8,9])\n",
    "    x = encode.transform(x)\n",
    "    \n",
    "    return x\n",
    "\n",
    "\n",
    "\"\"\"\n",
    "DON'T MODIFY ANYTHING IN THIS CELL THAT IS BELOW THIS LINE\n",
    "\"\"\"\n",
    "tests.test_one_hot_encode(one_hot_encode)"
   ]
  },
  {
   "cell_type": "markdown",
   "metadata": {
    "deletable": true,
    "editable": true
   },
   "source": [
    "## Preprocess all the data and save it\n",
    "Running the code cell below will preprocess all the CIFAR-10 data and save it to file. The code below also uses 10% of the training data for validation."
   ]
  },
  {
   "cell_type": "code",
   "execution_count": 5,
   "metadata": {
    "collapsed": false,
    "deletable": true,
    "editable": true
   },
   "outputs": [],
   "source": [
    "\"\"\"\n",
    "DON'T MODIFY ANYTHING IN THIS CELL\n",
    "\"\"\"\n",
    "# Preprocess Training, Validation, and Testing Data\n",
    "helper.preprocess_and_save_data(cifar10_dataset_folder_path, normalize, one_hot_encode)"
   ]
  },
  {
   "cell_type": "markdown",
   "metadata": {
    "deletable": true,
    "editable": true
   },
   "source": [
    "# Check Point\n",
    "This is your first checkpoint.  If you ever decide to come back to this notebook or have to restart the notebook, you can start from here.  The preprocessed data has been saved to disk."
   ]
  },
  {
   "cell_type": "code",
   "execution_count": 6,
   "metadata": {
    "collapsed": true,
    "deletable": true,
    "editable": true
   },
   "outputs": [],
   "source": [
    "\"\"\"\n",
    "DON'T MODIFY ANYTHING IN THIS CELL\n",
    "\"\"\"\n",
    "import pickle\n",
    "import problem_unittests as tests\n",
    "import helper\n",
    "\n",
    "# Load the Preprocessed Validation data\n",
    "valid_features, valid_labels = pickle.load(open('preprocess_validation.p', mode='rb'))"
   ]
  },
  {
   "cell_type": "markdown",
   "metadata": {
    "deletable": true,
    "editable": true
   },
   "source": [
    "## Build the network\n",
    "For the neural network, I built each layer into an individual function. This allowed me to get a better feel for the network and test for simple mistakes using the unittests.py.\n",
    "\n",
    "### Input\n",
    "The neural network needs to read the image data, one-hot encoded labels, and dropout keep probability. I Implemented the following functions\n",
    "* `neural_net_image_input`\n",
    " * Return a [TF Placeholder](https://www.tensorflow.org/api_docs/python/tf/placeholder)\n",
    " * Set the shape using `image_shape` with batch size set to `None`.\n",
    " * Name the TensorFlow placeholder \"x\" using the TensorFlow `name` parameter in the [TF Placeholder](https://www.tensorflow.org/api_docs/python/tf/placeholder).\n",
    "* `neural_net_label_input`\n",
    " * Return a [TF Placeholder](https://www.tensorflow.org/api_docs/python/tf/placeholder)\n",
    " * Set the shape using `n_classes` with batch size set to `None`.\n",
    " * Name the TensorFlow placeholder \"y\" using the TensorFlow `name` parameter in the [TF Placeholder](https://www.tensorflow.org/api_docs/python/tf/placeholder).\n",
    "* `neural_net_keep_prob_input`\n",
    " * Return a [TF Placeholder](https://www.tensorflow.org/api_docs/python/tf/placeholder) for dropout keep probability.\n",
    " * Name the TensorFlow placeholder \"keep_prob\" using the TensorFlow `name` parameter in the [TF Placeholder](https://www.tensorflow.org/api_docs/python/tf/placeholder).\n",
    "\n",
    "Note: `None` for shapes in TensorFlow allow for a dynamic size."
   ]
  },
  {
   "cell_type": "code",
   "execution_count": 7,
   "metadata": {
    "collapsed": false,
    "deletable": true,
    "editable": true
   },
   "outputs": [
    {
     "name": "stdout",
     "output_type": "stream",
     "text": [
      "Image Input Tests Passed.\n",
      "Label Input Tests Passed.\n",
      "Keep Prob Tests Passed.\n"
     ]
    }
   ],
   "source": [
    "import tensorflow as tf\n",
    "\n",
    "def neural_net_image_input(image_shape):\n",
    "    \"\"\"\n",
    "    Return a Tensor for a batch of image input\n",
    "    : image_shape: Shape of the images\n",
    "    : return: Tensor for image input.\n",
    "    \"\"\"\n",
    "    # Implement Function\n",
    "    x = tf.placeholder(tf.float32, shape =[None, *image_shape], name = \"x\")\n",
    "    return x\n",
    "\n",
    "\n",
    "def neural_net_label_input(n_classes):\n",
    "    \"\"\"\n",
    "    Return a Tensor for a batch of label input\n",
    "    : n_classes: Number of classes\n",
    "    : return: Tensor for label input.\n",
    "    \"\"\"\n",
    "    # Implement Function\n",
    "    y = tf.placeholder(tf.float32, shape = [None, n_classes], name = \"y\")\n",
    "    return y\n",
    "\n",
    "\n",
    "def neural_net_keep_prob_input():\n",
    "    \"\"\"\n",
    "    Return a Tensor for keep probability\n",
    "    : return: Tensor for keep probability.\n",
    "    \"\"\"\n",
    "    # Implement Function\n",
    "    keep_prob = tf.placeholder(tf.float32, name = \"keep_prob\")\n",
    "    return keep_prob\n",
    "\n",
    "\n",
    "\"\"\"\n",
    "DON'T MODIFY ANYTHING IN THIS CELL THAT IS BELOW THIS LINE\n",
    "\"\"\"\n",
    "tf.reset_default_graph()\n",
    "tests.test_nn_image_inputs(neural_net_image_input)\n",
    "tests.test_nn_label_inputs(neural_net_label_input)\n",
    "tests.test_nn_keep_prob_inputs(neural_net_keep_prob_input)"
   ]
  },
  {
   "cell_type": "markdown",
   "metadata": {
    "deletable": true,
    "editable": true
   },
   "source": [
    "### Convolution and Max Pooling Layer\n",
    "Convolution layers have a lot of success with images. For this code cell, I chose to implement the function `conv2d_maxpool` to apply convolution then max pooling:\n",
    "* Create the weight and bias using `conv_ksize`, `conv_num_outputs` and the shape of `x_tensor`.\n",
    "* Apply a convolution to `x_tensor` using weight and `conv_strides`.\n",
    " * I chose to use same padding\n",
    "* Add bias\n",
    "* Add a nonlinear activation to the convolution.\n",
    "* Apply Max Pooling using `pool_ksize` and `pool_strides`.\n",
    " * I chose to use same padding here as well\n"
   ]
  },
  {
   "cell_type": "code",
   "execution_count": 8,
   "metadata": {
    "collapsed": false,
    "deletable": true,
    "editable": true
   },
   "outputs": [
    {
     "name": "stdout",
     "output_type": "stream",
     "text": [
      "Tests Passed\n"
     ]
    }
   ],
   "source": [
    "def conv2d_maxpool(x_tensor, conv_num_outputs, conv_ksize, conv_strides, pool_ksize, pool_strides):\n",
    "    \"\"\"\n",
    "    Apply convolution then max pooling to x_tensor\n",
    "    :param x_tensor: TensorFlow Tensor\n",
    "    :param conv_num_outputs: Number of outputs for the convolutional layer\n",
    "    :param conv_ksize: kernal size 2-D Tuple for the convolutional layer\n",
    "    :param conv_strides: Stride 2-D Tuple for convolution\n",
    "    :param pool_ksize: kernal size 2-D Tuple for pool\n",
    "    :param pool_strides: Stride 2-D Tuple for pool\n",
    "    : return: A tensor that represents convolution and max pooling of x_tensor\n",
    "    \"\"\"\n",
    "    # Implement Function\n",
    "    weights = tf.Variable(tf.truncated_normal([conv_ksize[0], conv_ksize[1], x_tensor.shape.as_list()[3], conv_num_outputs], stddev=0.05, mean=0.0))\n",
    "    bias = tf.Variable(tf.zeros(conv_num_outputs))\n",
    "    layer_1 = tf.nn.conv2d(x_tensor, weights, \n",
    "                        strides=[1, *conv_strides, 1],\n",
    "                        padding = 'SAME')\n",
    "    layer_2 = tf.nn.bias_add(layer_1, bias)\n",
    "    layer_3 = tf.nn.relu(layer_2)\n",
    "    layer_4 = tf.nn.max_pool(layer_3, \n",
    "                          ksize = [1, *pool_ksize, 1],\n",
    "                          strides = [1, *pool_strides, 1],\n",
    "                          padding = 'SAME')\n",
    "    return layer_4\n",
    "\n",
    "\n",
    "\"\"\"\n",
    "DON'T MODIFY ANYTHING IN THIS CELL THAT IS BELOW THIS LINE\n",
    "\"\"\"\n",
    "tests.test_con_pool(conv2d_maxpool)"
   ]
  },
  {
   "cell_type": "markdown",
   "metadata": {
    "deletable": true,
    "editable": true
   },
   "source": [
    "### Flatten Layer\n",
    "Here I Implement the `flatten` function to change the dimension of `x_tensor` from a 4-D tensor to a 2-D tensor.  The output should be the shape (*Batch Size*, *Flattened Image Size*)."
   ]
  },
  {
   "cell_type": "code",
   "execution_count": 9,
   "metadata": {
    "collapsed": false,
    "deletable": true,
    "editable": true
   },
   "outputs": [
    {
     "name": "stdout",
     "output_type": "stream",
     "text": [
      "Tests Passed\n"
     ]
    }
   ],
   "source": [
    "def flatten(x_tensor):\n",
    "    \"\"\"\n",
    "    Flatten x_tensor to (Batch Size, Flattened Image Size)\n",
    "    : x_tensor: A tensor of size (Batch Size, ...), where ... are the image dimensions.\n",
    "    : return: A tensor of size (Batch Size, Flattened Image Size).\n",
    "    \"\"\"\n",
    "    # Implement Function\n",
    "    return tf.contrib.layers.flatten(x_tensor)\n",
    "\n",
    "\n",
    "\"\"\"\n",
    "DON'T MODIFY ANYTHING IN THIS CELL THAT IS BELOW THIS LINE\n",
    "\"\"\"\n",
    "tests.test_flatten(flatten)"
   ]
  },
  {
   "cell_type": "markdown",
   "metadata": {
    "deletable": true,
    "editable": true
   },
   "source": [
    "### Fully-Connected Layer\n",
    "Implement the `fully_conn` function to apply a fully connected layer to `x_tensor` with the shape (*Batch Size*, *num_outputs*). Shortcut option: you can use classes from the [TensorFlow Layers](https://www.tensorflow.org/api_docs/python/tf/layers) or [TensorFlow Layers (contrib)](https://www.tensorflow.org/api_guides/python/contrib.layers) packages for this layer. For more of a challenge, only use other TensorFlow packages."
   ]
  },
  {
   "cell_type": "code",
   "execution_count": 10,
   "metadata": {
    "collapsed": false,
    "deletable": true,
    "editable": true
   },
   "outputs": [
    {
     "name": "stdout",
     "output_type": "stream",
     "text": [
      "Tests Passed\n"
     ]
    }
   ],
   "source": [
    "def fully_conn(x_tensor, num_outputs):\n",
    "    \"\"\"\n",
    "    Apply a fully connected layer to x_tensor using weight and bias\n",
    "    : x_tensor: A 2-D tensor where the first dimension is batch size.\n",
    "    : num_outputs: The number of output that the new tensor should be.\n",
    "    : return: A 2-D tensor where the second dimension is num_outputs.\n",
    "    \"\"\"\n",
    "    # Implement Function\n",
    "    return tf.contrib.layers.fully_connected(x_tensor, num_outputs, activation_fn=tf.nn.relu)\n",
    "\n",
    "\n",
    "\"\"\"\n",
    "DON'T MODIFY ANYTHING IN THIS CELL THAT IS BELOW THIS LINE\n",
    "\"\"\"\n",
    "tests.test_fully_conn(fully_conn)"
   ]
  },
  {
   "cell_type": "markdown",
   "metadata": {
    "deletable": true,
    "editable": true
   },
   "source": [
    "### Output Layer\n",
    "Here I Implement the `output` function to apply a fully connected layer to `x_tensor` with the shape (*Batch Size*, *num_outputs*)."
   ]
  },
  {
   "cell_type": "code",
   "execution_count": 11,
   "metadata": {
    "collapsed": false,
    "deletable": true,
    "editable": true
   },
   "outputs": [
    {
     "name": "stdout",
     "output_type": "stream",
     "text": [
      "Tests Passed\n"
     ]
    }
   ],
   "source": [
    "def output(x_tensor, num_outputs):\n",
    "    \"\"\"\n",
    "    Apply a output layer to x_tensor using weight and bias\n",
    "    : x_tensor: A 2-D tensor where the first dimension is batch size.\n",
    "    : num_outputs: The number of output that the new tensor should be.\n",
    "    : return: A 2-D tensor where the second dimension is num_outputs.\n",
    "    \"\"\"\n",
    "    # Implement Function\n",
    "    return tf.contrib.layers.fully_connected(x_tensor, num_outputs, activation_fn=None)\n",
    "\n",
    "\n",
    "\"\"\"\n",
    "DON'T MODIFY ANYTHING IN THIS CELL THAT IS BELOW THIS LINE\n",
    "\"\"\"\n",
    "tests.test_output(output)"
   ]
  },
  {
   "cell_type": "markdown",
   "metadata": {
    "deletable": true,
    "editable": true
   },
   "source": [
    "### Create Convolutional Model\n",
    "Here I Implement the function `conv_net` to create a convolutional neural network model. The function takes in a batch of images, `x`, and outputs logits.  I Use the layers above to create this model structure:\n",
    "\n",
    "* Apply 1, 2, or 3 Convolution and Max Pool layers\n",
    "* Apply a Flatten Layer\n",
    "* Apply 1, 2, or 3 Fully Connected Layers\n",
    "* Apply an Output Layer\n",
    "* Return the output\n",
    "* Apply [TensorFlow's Dropout](https://www.tensorflow.org/api_docs/python/tf/nn/dropout) to one or more layers in the model using `keep_prob`. "
   ]
  },
  {
   "cell_type": "code",
   "execution_count": 12,
   "metadata": {
    "collapsed": false,
    "deletable": true,
    "editable": true
   },
   "outputs": [
    {
     "name": "stdout",
     "output_type": "stream",
     "text": [
      "Neural Network Built!\n"
     ]
    }
   ],
   "source": [
    "def conv_net(x, keep_prob):\n",
    "    \"\"\"\n",
    "    Create a convolutional neural network model\n",
    "    : x: Placeholder tensor that holds image data.\n",
    "    : keep_prob: Placeholder tensor that hold dropout keep probability.\n",
    "    : return: Tensor that represents logits\n",
    "    \"\"\"\n",
    "    # Apply 1, 2, or 3 Convolution and Max Pool layers\n",
    "    # conv2d_maxpool(x_tensor, conv_num_outputs, conv_ksize, conv_strides, pool_ksize, pool_strides)\n",
    "    x = conv2d_maxpool(x, 32, (3, 3), (1, 1), (2, 2), (2, 2))\n",
    "    x = conv2d_maxpool(x, 196, (3, 3), (1, 1), (2, 2), (2, 2))\n",
    "    \n",
    "\n",
    "    # Apply a Flatten Layer\n",
    "    # flatten(x_tensor)\n",
    "    x = flatten(x)\n",
    "\n",
    "    # Apply 1, 2, or 3 Fully Connected Layers\n",
    "    # fully_conn(x_tensor, num_outputs)\n",
    "    x1 = fully_conn(x, 512)\n",
    "    x1 = tf.nn.dropout(x1, keep_prob)\n",
    "    x2 = fully_conn(x1, 512)\n",
    "    x2 = tf.nn.dropout(x2, keep_prob)\n",
    "    \n",
    "    # Apply an Output Layer\n",
    "    # output(x_tensor, num_outputs)\n",
    "    x = output(x2, 10)\n",
    "    \n",
    "    # return output\n",
    "    return x\n",
    "\n",
    "\n",
    "\"\"\"\n",
    "DON'T MODIFY ANYTHING IN THIS CELL THAT IS BELOW THIS LINE\n",
    "\"\"\"\n",
    "\n",
    "##############################\n",
    "## Build the Neural Network ##\n",
    "##############################\n",
    "\n",
    "# Remove previous weights, bias, inputs, etc..\n",
    "tf.reset_default_graph()\n",
    "\n",
    "# Inputs\n",
    "x = neural_net_image_input((32, 32, 3))\n",
    "y = neural_net_label_input(10)\n",
    "keep_prob = neural_net_keep_prob_input()\n",
    "\n",
    "# Model\n",
    "logits = conv_net(x, keep_prob)\n",
    "\n",
    "# Name logits Tensor, so that is can be loaded from disk after training\n",
    "logits = tf.identity(logits, name='logits')\n",
    "\n",
    "# Loss and Optimizer\n",
    "cost = tf.reduce_mean(tf.nn.softmax_cross_entropy_with_logits(logits=logits, labels=y))\n",
    "optimizer = tf.train.AdamOptimizer().minimize(cost)\n",
    "\n",
    "# Accuracy\n",
    "correct_pred = tf.equal(tf.argmax(logits, 1), tf.argmax(y, 1))\n",
    "accuracy = tf.reduce_mean(tf.cast(correct_pred, tf.float32), name='accuracy')\n",
    "\n",
    "tests.test_conv_net(conv_net)"
   ]
  },
  {
   "cell_type": "markdown",
   "metadata": {
    "deletable": true,
    "editable": true
   },
   "source": [
    "## Train the Neural Network\n",
    "### Single Optimization\n",
    "Here Implement the function `train_neural_network` to do a single optimization.  The optimization should use `optimizer` to optimize in `session` with a `feed_dict` of the following:\n",
    "* `x` for image input\n",
    "* `y` for labels\n",
    "* `keep_prob` for keep probability for dropout\n",
    "\n",
    "This function will be called for each batch, so `tf.global_variables_initializer()` has already been called.\n",
    "\n",
    "Note: Nothing needs to be returned. This function is only optimizing the neural network."
   ]
  },
  {
   "cell_type": "code",
   "execution_count": 13,
   "metadata": {
    "collapsed": false,
    "deletable": true,
    "editable": true
   },
   "outputs": [
    {
     "name": "stdout",
     "output_type": "stream",
     "text": [
      "Tests Passed\n"
     ]
    }
   ],
   "source": [
    "def train_neural_network(session, optimizer, keep_probability, feature_batch, label_batch):\n",
    "    \"\"\"\n",
    "    Optimize the session on a batch of images and labels\n",
    "    : session: Current TensorFlow session\n",
    "    : optimizer: TensorFlow optimizer function\n",
    "    : keep_probability: keep probability\n",
    "    : feature_batch: Batch of Numpy image data\n",
    "    : label_batch: Batch of Numpy label data\n",
    "    \"\"\"\n",
    "    # Implement Function\n",
    "    session.run(optimizer, feed_dict={\n",
    "            x: feature_batch,\n",
    "            y: label_batch,\n",
    "            keep_prob: keep_probability})\n",
    "    pass\n",
    "\n",
    "\n",
    "\"\"\"\n",
    "DON'T MODIFY ANYTHING IN THIS CELL THAT IS BELOW THIS LINE\n",
    "\"\"\"\n",
    "tests.test_train_nn(train_neural_network)"
   ]
  },
  {
   "cell_type": "markdown",
   "metadata": {
    "deletable": true,
    "editable": true
   },
   "source": [
    "### Show Stats\n",
    "Here I Implement the function `print_stats` to print loss and validation accuracy.  Use the global variables `valid_features` and `valid_labels` to calculate validation accuracy.  I Use a keep probability of `1.0` to calculate the loss and validation accuracy."
   ]
  },
  {
   "cell_type": "code",
   "execution_count": 14,
   "metadata": {
    "collapsed": false,
    "deletable": true,
    "editable": true
   },
   "outputs": [],
   "source": [
    "def print_stats(session, feature_batch, label_batch, cost, accuracy):\n",
    "    \"\"\"\n",
    "    Print information about loss and validation accuracy\n",
    "    : session: Current TensorFlow session\n",
    "    : feature_batch: Batch of Numpy image data\n",
    "    : label_batch: Batch of Numpy label data\n",
    "    : cost: TensorFlow cost function\n",
    "    : accuracy: TensorFlow accuracy function\n",
    "    \"\"\"\n",
    "    # Implement Function\n",
    "    loss = session.run(cost, feed_dict={\n",
    "            x: feature_batch,\n",
    "            y: label_batch,\n",
    "            keep_prob: 1.})\n",
    "    valid_acc = session.run(accuracy, feed_dict={\n",
    "            x: valid_features,\n",
    "            y: valid_labels,\n",
    "            keep_prob: 1.})\n",
    "    \n",
    "    print('Loss: {:>10.4f} Validation Accuracy: {:.6f}'.format(loss, valid_acc))\n",
    "    "
   ]
  },
  {
   "cell_type": "markdown",
   "metadata": {
    "deletable": true,
    "editable": true
   },
   "source": [
    "### Hyperparameters\n",
    "Tune the following parameters:\n",
    "* Set `epochs` to the number of iterations until the network stops learning or start overfitting\n",
    "* Set `batch_size` to the highest number that your machine has memory for.  Most people set them to common sizes of memory:\n",
    " * 64\n",
    " * 128\n",
    " * 256\n",
    " * ...\n",
    "* Set `keep_probability` to the probability of keeping a node using dropout"
   ]
  },
  {
   "cell_type": "code",
   "execution_count": 15,
   "metadata": {
    "collapsed": true,
    "deletable": true,
    "editable": true
   },
   "outputs": [],
   "source": [
    "# Tune Parameters\n",
    "epochs = 32\n",
    "batch_size = 256\n",
    "keep_probability = 0.5"
   ]
  },
  {
   "cell_type": "markdown",
   "metadata": {
    "deletable": true,
    "editable": true
   },
   "source": [
    "### Train on a Single CIFAR-10 Batch\n",
    "Instead of training the neural network on all the CIFAR-10 batches of data, I use a single batch. This should save time while it iterates over the model to get a better accuracy.  Once the training validation accuracy is 50% or greater, it will run the model on all the data in the next section."
   ]
  },
  {
   "cell_type": "code",
   "execution_count": 16,
   "metadata": {
    "collapsed": false,
    "deletable": true,
    "editable": true
   },
   "outputs": [
    {
     "name": "stdout",
     "output_type": "stream",
     "text": [
      "Checking the Training on a Single Batch...\n",
      "Epoch  1, CIFAR-10 Batch 1:  Loss:     2.0349 Validation Accuracy: 0.314600\n",
      "Epoch  2, CIFAR-10 Batch 1:  Loss:     1.7708 Validation Accuracy: 0.414000\n",
      "Epoch  3, CIFAR-10 Batch 1:  Loss:     1.4917 Validation Accuracy: 0.470600\n",
      "Epoch  4, CIFAR-10 Batch 1:  Loss:     1.1779 Validation Accuracy: 0.514800\n",
      "Epoch  5, CIFAR-10 Batch 1:  Loss:     0.9780 Validation Accuracy: 0.547400\n",
      "Epoch  6, CIFAR-10 Batch 1:  Loss:     0.7827 Validation Accuracy: 0.553200\n",
      "Epoch  7, CIFAR-10 Batch 1:  Loss:     0.6252 Validation Accuracy: 0.567000\n",
      "Epoch  8, CIFAR-10 Batch 1:  Loss:     0.4967 Validation Accuracy: 0.570400\n",
      "Epoch  9, CIFAR-10 Batch 1:  Loss:     0.4102 Validation Accuracy: 0.595600\n",
      "Epoch 10, CIFAR-10 Batch 1:  Loss:     0.2857 Validation Accuracy: 0.606600\n",
      "Epoch 11, CIFAR-10 Batch 1:  Loss:     0.2202 Validation Accuracy: 0.605800\n",
      "Epoch 12, CIFAR-10 Batch 1:  Loss:     0.1757 Validation Accuracy: 0.610400\n",
      "Epoch 13, CIFAR-10 Batch 1:  Loss:     0.1322 Validation Accuracy: 0.606200\n",
      "Epoch 14, CIFAR-10 Batch 1:  Loss:     0.0820 Validation Accuracy: 0.610400\n",
      "Epoch 15, CIFAR-10 Batch 1:  Loss:     0.1039 Validation Accuracy: 0.577400\n",
      "Epoch 16, CIFAR-10 Batch 1:  Loss:     0.0630 Validation Accuracy: 0.609400\n",
      "Epoch 17, CIFAR-10 Batch 1:  Loss:     0.0445 Validation Accuracy: 0.585400\n",
      "Epoch 18, CIFAR-10 Batch 1:  Loss:     0.0364 Validation Accuracy: 0.593200\n",
      "Epoch 19, CIFAR-10 Batch 1:  Loss:     0.0247 Validation Accuracy: 0.615200\n",
      "Epoch 20, CIFAR-10 Batch 1:  Loss:     0.0224 Validation Accuracy: 0.630600\n",
      "Epoch 21, CIFAR-10 Batch 1:  Loss:     0.0202 Validation Accuracy: 0.613000\n",
      "Epoch 22, CIFAR-10 Batch 1:  Loss:     0.0150 Validation Accuracy: 0.619600\n",
      "Epoch 23, CIFAR-10 Batch 1:  Loss:     0.0131 Validation Accuracy: 0.621200\n",
      "Epoch 24, CIFAR-10 Batch 1:  Loss:     0.0111 Validation Accuracy: 0.630000\n",
      "Epoch 25, CIFAR-10 Batch 1:  Loss:     0.0057 Validation Accuracy: 0.629000\n",
      "Epoch 26, CIFAR-10 Batch 1:  Loss:     0.0053 Validation Accuracy: 0.609200\n",
      "Epoch 27, CIFAR-10 Batch 1:  Loss:     0.0050 Validation Accuracy: 0.615800\n",
      "Epoch 28, CIFAR-10 Batch 1:  Loss:     0.0070 Validation Accuracy: 0.607000\n",
      "Epoch 29, CIFAR-10 Batch 1:  Loss:     0.0030 Validation Accuracy: 0.609800\n",
      "Epoch 30, CIFAR-10 Batch 1:  Loss:     0.0013 Validation Accuracy: 0.618800\n",
      "Epoch 31, CIFAR-10 Batch 1:  Loss:     0.0013 Validation Accuracy: 0.635000\n",
      "Epoch 32, CIFAR-10 Batch 1:  Loss:     0.0010 Validation Accuracy: 0.632200\n"
     ]
    }
   ],
   "source": [
    "\"\"\"\n",
    "DON'T MODIFY ANYTHING IN THIS CELL\n",
    "\"\"\"\n",
    "print('Checking the Training on a Single Batch...')\n",
    "with tf.Session() as sess:\n",
    "    # Initializing the variables\n",
    "    sess.run(tf.global_variables_initializer())\n",
    "    \n",
    "    # Training cycle\n",
    "    for epoch in range(epochs):\n",
    "        batch_i = 1\n",
    "        for batch_features, batch_labels in helper.load_preprocess_training_batch(batch_i, batch_size):\n",
    "            train_neural_network(sess, optimizer, keep_probability, batch_features, batch_labels)\n",
    "        print('Epoch {:>2}, CIFAR-10 Batch {}:  '.format(epoch + 1, batch_i), end='')\n",
    "        print_stats(sess, batch_features, batch_labels, cost, accuracy)"
   ]
  },
  {
   "cell_type": "markdown",
   "metadata": {
    "deletable": true,
    "editable": true
   },
   "source": [
    "### Fully Train the Model\n",
    "Now that the model achieved good accuracy with a single CIFAR-10 batch, we proceed with all five batches."
   ]
  },
  {
   "cell_type": "code",
   "execution_count": 17,
   "metadata": {
    "collapsed": false,
    "deletable": true,
    "editable": true
   },
   "outputs": [
    {
     "name": "stdout",
     "output_type": "stream",
     "text": [
      "Training...\n",
      "Epoch  1, CIFAR-10 Batch 1:  Loss:     2.1160 Validation Accuracy: 0.302400\n",
      "Epoch  1, CIFAR-10 Batch 2:  Loss:     1.6097 Validation Accuracy: 0.405600\n",
      "Epoch  1, CIFAR-10 Batch 3:  Loss:     1.3172 Validation Accuracy: 0.446600\n",
      "Epoch  1, CIFAR-10 Batch 4:  Loss:     1.4588 Validation Accuracy: 0.468800\n",
      "Epoch  1, CIFAR-10 Batch 5:  Loss:     1.3344 Validation Accuracy: 0.509800\n",
      "Epoch  2, CIFAR-10 Batch 1:  Loss:     1.4024 Validation Accuracy: 0.534000\n",
      "Epoch  2, CIFAR-10 Batch 2:  Loss:     1.1246 Validation Accuracy: 0.529000\n",
      "Epoch  2, CIFAR-10 Batch 3:  Loss:     0.9450 Validation Accuracy: 0.549400\n",
      "Epoch  2, CIFAR-10 Batch 4:  Loss:     0.9638 Validation Accuracy: 0.589200\n",
      "Epoch  2, CIFAR-10 Batch 5:  Loss:     1.0115 Validation Accuracy: 0.595600\n",
      "Epoch  3, CIFAR-10 Batch 1:  Loss:     1.0023 Validation Accuracy: 0.613800\n",
      "Epoch  3, CIFAR-10 Batch 2:  Loss:     0.7150 Validation Accuracy: 0.621400\n",
      "Epoch  3, CIFAR-10 Batch 3:  Loss:     0.6092 Validation Accuracy: 0.634000\n",
      "Epoch  3, CIFAR-10 Batch 4:  Loss:     0.7249 Validation Accuracy: 0.633200\n",
      "Epoch  3, CIFAR-10 Batch 5:  Loss:     0.6148 Validation Accuracy: 0.648000\n",
      "Epoch  4, CIFAR-10 Batch 1:  Loss:     0.7218 Validation Accuracy: 0.631000\n",
      "Epoch  4, CIFAR-10 Batch 2:  Loss:     0.4601 Validation Accuracy: 0.649600\n",
      "Epoch  4, CIFAR-10 Batch 3:  Loss:     0.4397 Validation Accuracy: 0.655200\n",
      "Epoch  4, CIFAR-10 Batch 4:  Loss:     0.5115 Validation Accuracy: 0.670400\n",
      "Epoch  4, CIFAR-10 Batch 5:  Loss:     0.3959 Validation Accuracy: 0.662800\n",
      "Epoch  5, CIFAR-10 Batch 1:  Loss:     0.5204 Validation Accuracy: 0.654000\n",
      "Epoch  5, CIFAR-10 Batch 2:  Loss:     0.3210 Validation Accuracy: 0.669000\n",
      "Epoch  5, CIFAR-10 Batch 3:  Loss:     0.3168 Validation Accuracy: 0.685400\n",
      "Epoch  5, CIFAR-10 Batch 4:  Loss:     0.3649 Validation Accuracy: 0.678000\n",
      "Epoch  5, CIFAR-10 Batch 5:  Loss:     0.2672 Validation Accuracy: 0.663600\n",
      "Epoch  6, CIFAR-10 Batch 1:  Loss:     0.3707 Validation Accuracy: 0.683800\n",
      "Epoch  6, CIFAR-10 Batch 2:  Loss:     0.2855 Validation Accuracy: 0.686000\n",
      "Epoch  6, CIFAR-10 Batch 3:  Loss:     0.2089 Validation Accuracy: 0.676800\n",
      "Epoch  6, CIFAR-10 Batch 4:  Loss:     0.2159 Validation Accuracy: 0.692600\n",
      "Epoch  6, CIFAR-10 Batch 5:  Loss:     0.1821 Validation Accuracy: 0.682600\n",
      "Epoch  7, CIFAR-10 Batch 1:  Loss:     0.2428 Validation Accuracy: 0.690200\n",
      "Epoch  7, CIFAR-10 Batch 2:  Loss:     0.2176 Validation Accuracy: 0.682600\n",
      "Epoch  7, CIFAR-10 Batch 3:  Loss:     0.1467 Validation Accuracy: 0.701000\n",
      "Epoch  7, CIFAR-10 Batch 4:  Loss:     0.1773 Validation Accuracy: 0.703000\n",
      "Epoch  7, CIFAR-10 Batch 5:  Loss:     0.1221 Validation Accuracy: 0.701000\n",
      "Epoch  8, CIFAR-10 Batch 1:  Loss:     0.1751 Validation Accuracy: 0.707400\n",
      "Epoch  8, CIFAR-10 Batch 2:  Loss:     0.1478 Validation Accuracy: 0.690600\n",
      "Epoch  8, CIFAR-10 Batch 3:  Loss:     0.1435 Validation Accuracy: 0.689200\n",
      "Epoch  8, CIFAR-10 Batch 4:  Loss:     0.1273 Validation Accuracy: 0.687200\n",
      "Epoch  8, CIFAR-10 Batch 5:  Loss:     0.0676 Validation Accuracy: 0.713200\n",
      "Epoch  9, CIFAR-10 Batch 1:  Loss:     0.1355 Validation Accuracy: 0.710600\n",
      "Epoch  9, CIFAR-10 Batch 2:  Loss:     0.0940 Validation Accuracy: 0.700400\n",
      "Epoch  9, CIFAR-10 Batch 3:  Loss:     0.0883 Validation Accuracy: 0.700400\n",
      "Epoch  9, CIFAR-10 Batch 4:  Loss:     0.0725 Validation Accuracy: 0.709600\n",
      "Epoch  9, CIFAR-10 Batch 5:  Loss:     0.0583 Validation Accuracy: 0.708600\n",
      "Epoch 10, CIFAR-10 Batch 1:  Loss:     0.1017 Validation Accuracy: 0.696600\n",
      "Epoch 10, CIFAR-10 Batch 2:  Loss:     0.0968 Validation Accuracy: 0.713400\n",
      "Epoch 10, CIFAR-10 Batch 3:  Loss:     0.0583 Validation Accuracy: 0.695200\n",
      "Epoch 10, CIFAR-10 Batch 4:  Loss:     0.0593 Validation Accuracy: 0.696800\n",
      "Epoch 10, CIFAR-10 Batch 5:  Loss:     0.0450 Validation Accuracy: 0.714600\n",
      "Epoch 11, CIFAR-10 Batch 1:  Loss:     0.0678 Validation Accuracy: 0.704600\n",
      "Epoch 11, CIFAR-10 Batch 2:  Loss:     0.0745 Validation Accuracy: 0.708400\n",
      "Epoch 11, CIFAR-10 Batch 3:  Loss:     0.0396 Validation Accuracy: 0.694400\n",
      "Epoch 11, CIFAR-10 Batch 4:  Loss:     0.0375 Validation Accuracy: 0.709600\n",
      "Epoch 11, CIFAR-10 Batch 5:  Loss:     0.0290 Validation Accuracy: 0.713000\n",
      "Epoch 12, CIFAR-10 Batch 1:  Loss:     0.0529 Validation Accuracy: 0.710000\n",
      "Epoch 12, CIFAR-10 Batch 2:  Loss:     0.0448 Validation Accuracy: 0.718600\n",
      "Epoch 12, CIFAR-10 Batch 3:  Loss:     0.0271 Validation Accuracy: 0.724600\n",
      "Epoch 12, CIFAR-10 Batch 4:  Loss:     0.0294 Validation Accuracy: 0.716600\n",
      "Epoch 12, CIFAR-10 Batch 5:  Loss:     0.0292 Validation Accuracy: 0.697400\n",
      "Epoch 13, CIFAR-10 Batch 1:  Loss:     0.0681 Validation Accuracy: 0.718800\n",
      "Epoch 13, CIFAR-10 Batch 2:  Loss:     0.0311 Validation Accuracy: 0.716600\n",
      "Epoch 13, CIFAR-10 Batch 3:  Loss:     0.0216 Validation Accuracy: 0.715400\n",
      "Epoch 13, CIFAR-10 Batch 4:  Loss:     0.0255 Validation Accuracy: 0.708800\n",
      "Epoch 13, CIFAR-10 Batch 5:  Loss:     0.0108 Validation Accuracy: 0.723000\n",
      "Epoch 14, CIFAR-10 Batch 1:  Loss:     0.0461 Validation Accuracy: 0.693800\n",
      "Epoch 14, CIFAR-10 Batch 2:  Loss:     0.0170 Validation Accuracy: 0.702800\n",
      "Epoch 14, CIFAR-10 Batch 3:  Loss:     0.0166 Validation Accuracy: 0.700800\n",
      "Epoch 14, CIFAR-10 Batch 4:  Loss:     0.0143 Validation Accuracy: 0.720000\n",
      "Epoch 14, CIFAR-10 Batch 5:  Loss:     0.0163 Validation Accuracy: 0.715400\n",
      "Epoch 15, CIFAR-10 Batch 1:  Loss:     0.0261 Validation Accuracy: 0.706200\n",
      "Epoch 15, CIFAR-10 Batch 2:  Loss:     0.0125 Validation Accuracy: 0.718000\n",
      "Epoch 15, CIFAR-10 Batch 3:  Loss:     0.0121 Validation Accuracy: 0.717800\n",
      "Epoch 15, CIFAR-10 Batch 4:  Loss:     0.0189 Validation Accuracy: 0.708200\n",
      "Epoch 15, CIFAR-10 Batch 5:  Loss:     0.0129 Validation Accuracy: 0.716400\n",
      "Epoch 16, CIFAR-10 Batch 1:  Loss:     0.0181 Validation Accuracy: 0.708800\n",
      "Epoch 16, CIFAR-10 Batch 2:  Loss:     0.0233 Validation Accuracy: 0.723200\n",
      "Epoch 16, CIFAR-10 Batch 3:  Loss:     0.0098 Validation Accuracy: 0.711200\n",
      "Epoch 16, CIFAR-10 Batch 4:  Loss:     0.0071 Validation Accuracy: 0.719000\n",
      "Epoch 16, CIFAR-10 Batch 5:  Loss:     0.0100 Validation Accuracy: 0.712400\n",
      "Epoch 17, CIFAR-10 Batch 1:  Loss:     0.0090 Validation Accuracy: 0.708800\n",
      "Epoch 17, CIFAR-10 Batch 2:  Loss:     0.0104 Validation Accuracy: 0.723600\n",
      "Epoch 17, CIFAR-10 Batch 3:  Loss:     0.0100 Validation Accuracy: 0.714400\n",
      "Epoch 17, CIFAR-10 Batch 4:  Loss:     0.0103 Validation Accuracy: 0.709600\n",
      "Epoch 17, CIFAR-10 Batch 5:  Loss:     0.0041 Validation Accuracy: 0.728600\n",
      "Epoch 18, CIFAR-10 Batch 1:  Loss:     0.0134 Validation Accuracy: 0.723800\n",
      "Epoch 18, CIFAR-10 Batch 2:  Loss:     0.0173 Validation Accuracy: 0.721200\n",
      "Epoch 18, CIFAR-10 Batch 3:  Loss:     0.0064 Validation Accuracy: 0.715600\n",
      "Epoch 18, CIFAR-10 Batch 4:  Loss:     0.0026 Validation Accuracy: 0.718000\n",
      "Epoch 18, CIFAR-10 Batch 5:  Loss:     0.0043 Validation Accuracy: 0.721800\n",
      "Epoch 19, CIFAR-10 Batch 1:  Loss:     0.0046 Validation Accuracy: 0.724800\n",
      "Epoch 19, CIFAR-10 Batch 2:  Loss:     0.0183 Validation Accuracy: 0.725200\n",
      "Epoch 19, CIFAR-10 Batch 3:  Loss:     0.0032 Validation Accuracy: 0.714400\n",
      "Epoch 19, CIFAR-10 Batch 4:  Loss:     0.0028 Validation Accuracy: 0.718800\n",
      "Epoch 19, CIFAR-10 Batch 5:  Loss:     0.0027 Validation Accuracy: 0.726000\n",
      "Epoch 20, CIFAR-10 Batch 1:  Loss:     0.0070 Validation Accuracy: 0.706600\n",
      "Epoch 20, CIFAR-10 Batch 2:  Loss:     0.0080 Validation Accuracy: 0.720000\n",
      "Epoch 20, CIFAR-10 Batch 3:  Loss:     0.0063 Validation Accuracy: 0.716600\n",
      "Epoch 20, CIFAR-10 Batch 4:  Loss:     0.0019 Validation Accuracy: 0.713000\n",
      "Epoch 20, CIFAR-10 Batch 5:  Loss:     0.0022 Validation Accuracy: 0.721000\n",
      "Epoch 21, CIFAR-10 Batch 1:  Loss:     0.0072 Validation Accuracy: 0.721000\n",
      "Epoch 21, CIFAR-10 Batch 2:  Loss:     0.0079 Validation Accuracy: 0.709800\n",
      "Epoch 21, CIFAR-10 Batch 3:  Loss:     0.0023 Validation Accuracy: 0.720000\n",
      "Epoch 21, CIFAR-10 Batch 4:  Loss:     0.0020 Validation Accuracy: 0.720000\n",
      "Epoch 21, CIFAR-10 Batch 5:  Loss:     0.0009 Validation Accuracy: 0.725600\n",
      "Epoch 22, CIFAR-10 Batch 1:  Loss:     0.0077 Validation Accuracy: 0.720200\n",
      "Epoch 22, CIFAR-10 Batch 2:  Loss:     0.0065 Validation Accuracy: 0.728000\n",
      "Epoch 22, CIFAR-10 Batch 3:  Loss:     0.0014 Validation Accuracy: 0.717200\n",
      "Epoch 22, CIFAR-10 Batch 4:  Loss:     0.0008 Validation Accuracy: 0.712600\n",
      "Epoch 22, CIFAR-10 Batch 5:  Loss:     0.0009 Validation Accuracy: 0.714600\n",
      "Epoch 23, CIFAR-10 Batch 1:  Loss:     0.0020 Validation Accuracy: 0.722200\n",
      "Epoch 23, CIFAR-10 Batch 2:  Loss:     0.0072 Validation Accuracy: 0.722400\n",
      "Epoch 23, CIFAR-10 Batch 3:  Loss:     0.0006 Validation Accuracy: 0.720400\n",
      "Epoch 23, CIFAR-10 Batch 4:  Loss:     0.0008 Validation Accuracy: 0.721800\n",
      "Epoch 23, CIFAR-10 Batch 5:  Loss:     0.0011 Validation Accuracy: 0.730600\n",
      "Epoch 24, CIFAR-10 Batch 1:  Loss:     0.0078 Validation Accuracy: 0.710600\n",
      "Epoch 24, CIFAR-10 Batch 2:  Loss:     0.0018 Validation Accuracy: 0.726200\n",
      "Epoch 24, CIFAR-10 Batch 3:  Loss:     0.0014 Validation Accuracy: 0.723000\n",
      "Epoch 24, CIFAR-10 Batch 4:  Loss:     0.0009 Validation Accuracy: 0.715000\n",
      "Epoch 24, CIFAR-10 Batch 5:  Loss:     0.0013 Validation Accuracy: 0.719000\n",
      "Epoch 25, CIFAR-10 Batch 1:  Loss:     0.0016 Validation Accuracy: 0.722400\n",
      "Epoch 25, CIFAR-10 Batch 2:  Loss:     0.0020 Validation Accuracy: 0.726000\n",
      "Epoch 25, CIFAR-10 Batch 3:  Loss:     0.0007 Validation Accuracy: 0.714800\n",
      "Epoch 25, CIFAR-10 Batch 4:  Loss:     0.0018 Validation Accuracy: 0.708000\n",
      "Epoch 25, CIFAR-10 Batch 5:  Loss:     0.0018 Validation Accuracy: 0.721200\n",
      "Epoch 26, CIFAR-10 Batch 1:  Loss:     0.0016 Validation Accuracy: 0.712200\n",
      "Epoch 26, CIFAR-10 Batch 2:  Loss:     0.0011 Validation Accuracy: 0.725400\n",
      "Epoch 26, CIFAR-10 Batch 3:  Loss:     0.0004 Validation Accuracy: 0.729400\n",
      "Epoch 26, CIFAR-10 Batch 4:  Loss:     0.0004 Validation Accuracy: 0.723600\n",
      "Epoch 26, CIFAR-10 Batch 5:  Loss:     0.0008 Validation Accuracy: 0.725800\n",
      "Epoch 27, CIFAR-10 Batch 1:  Loss:     0.0012 Validation Accuracy: 0.721000\n",
      "Epoch 27, CIFAR-10 Batch 2:  Loss:     0.0012 Validation Accuracy: 0.722000\n",
      "Epoch 27, CIFAR-10 Batch 3:  Loss:     0.0006 Validation Accuracy: 0.724600\n",
      "Epoch 27, CIFAR-10 Batch 4:  Loss:     0.0007 Validation Accuracy: 0.718600\n",
      "Epoch 27, CIFAR-10 Batch 5:  Loss:     0.0004 Validation Accuracy: 0.722800\n",
      "Epoch 28, CIFAR-10 Batch 1:  Loss:     0.0021 Validation Accuracy: 0.712800\n",
      "Epoch 28, CIFAR-10 Batch 2:  Loss:     0.0022 Validation Accuracy: 0.721600\n",
      "Epoch 28, CIFAR-10 Batch 3:  Loss:     0.0009 Validation Accuracy: 0.721000\n",
      "Epoch 28, CIFAR-10 Batch 4:  Loss:     0.0016 Validation Accuracy: 0.723600\n",
      "Epoch 28, CIFAR-10 Batch 5:  Loss:     0.0004 Validation Accuracy: 0.729400\n",
      "Epoch 29, CIFAR-10 Batch 1:  Loss:     0.0012 Validation Accuracy: 0.729800\n",
      "Epoch 29, CIFAR-10 Batch 2:  Loss:     0.0005 Validation Accuracy: 0.723200\n",
      "Epoch 29, CIFAR-10 Batch 3:  Loss:     0.0003 Validation Accuracy: 0.724400\n",
      "Epoch 29, CIFAR-10 Batch 4:  Loss:     0.0004 Validation Accuracy: 0.723400\n",
      "Epoch 29, CIFAR-10 Batch 5:  Loss:     0.0009 Validation Accuracy: 0.723800\n",
      "Epoch 30, CIFAR-10 Batch 1:  Loss:     0.0005 Validation Accuracy: 0.728000\n",
      "Epoch 30, CIFAR-10 Batch 2:  Loss:     0.0008 Validation Accuracy: 0.724200\n",
      "Epoch 30, CIFAR-10 Batch 3:  Loss:     0.0004 Validation Accuracy: 0.723000\n",
      "Epoch 30, CIFAR-10 Batch 4:  Loss:     0.0005 Validation Accuracy: 0.716800\n",
      "Epoch 30, CIFAR-10 Batch 5:  Loss:     0.0005 Validation Accuracy: 0.720400\n",
      "Epoch 31, CIFAR-10 Batch 1:  Loss:     0.0014 Validation Accuracy: 0.724200\n",
      "Epoch 31, CIFAR-10 Batch 2:  Loss:     0.0010 Validation Accuracy: 0.726000\n",
      "Epoch 31, CIFAR-10 Batch 3:  Loss:     0.0004 Validation Accuracy: 0.735200\n",
      "Epoch 31, CIFAR-10 Batch 4:  Loss:     0.0003 Validation Accuracy: 0.729000\n",
      "Epoch 31, CIFAR-10 Batch 5:  Loss:     0.0003 Validation Accuracy: 0.728000\n",
      "Epoch 32, CIFAR-10 Batch 1:  Loss:     0.0004 Validation Accuracy: 0.721200\n",
      "Epoch 32, CIFAR-10 Batch 2:  Loss:     0.0009 Validation Accuracy: 0.720000\n",
      "Epoch 32, CIFAR-10 Batch 3:  Loss:     0.0002 Validation Accuracy: 0.730600\n",
      "Epoch 32, CIFAR-10 Batch 4:  Loss:     0.0025 Validation Accuracy: 0.722200\n",
      "Epoch 32, CIFAR-10 Batch 5:  Loss:     0.0005 Validation Accuracy: 0.727400\n"
     ]
    }
   ],
   "source": [
    "\"\"\"\n",
    "DON'T MODIFY ANYTHING IN THIS CELL\n",
    "\"\"\"\n",
    "save_model_path = './image_classification'\n",
    "\n",
    "print('Training...')\n",
    "with tf.Session() as sess:\n",
    "    # Initializing the variables\n",
    "    sess.run(tf.global_variables_initializer())\n",
    "    \n",
    "    # Training cycle\n",
    "    for epoch in range(epochs):\n",
    "        # Loop over all batches\n",
    "        n_batches = 5\n",
    "        for batch_i in range(1, n_batches + 1):\n",
    "            for batch_features, batch_labels in helper.load_preprocess_training_batch(batch_i, batch_size):\n",
    "                train_neural_network(sess, optimizer, keep_probability, batch_features, batch_labels)\n",
    "            print('Epoch {:>2}, CIFAR-10 Batch {}:  '.format(epoch + 1, batch_i), end='')\n",
    "            print_stats(sess, batch_features, batch_labels, cost, accuracy)\n",
    "            \n",
    "    # Save Model\n",
    "    saver = tf.train.Saver()\n",
    "    save_path = saver.save(sess, save_model_path)"
   ]
  },
  {
   "cell_type": "markdown",
   "metadata": {
    "deletable": true,
    "editable": true
   },
   "source": [
    "# Checkpoint\n",
    "The model has been saved to disk.\n",
    "## Test Model\n",
    "Next I Test the model against the test dataset.  This will be the final accuracy. It should have an accuracy greater than 50%. If it didn't, I would have needed to tweak the model architecture and parameters."
   ]
  },
  {
   "cell_type": "code",
   "execution_count": 18,
   "metadata": {
    "collapsed": false,
    "deletable": true,
    "editable": true
   },
   "outputs": [
    {
     "name": "stdout",
     "output_type": "stream",
     "text": [
      "Testing Accuracy: 0.73154296875\n",
      "\n"
     ]
    },
    {
     "data": {
      "image/png": "[encoded data removed]",
      "text/plain": [
       "<matplotlib.figure.Figure at 0x7f8f985d6b00>"
      ]
     },
     "metadata": {
      "image/png": {
       "height": 319,
       "width": 355
      }
     },
     "output_type": "display_data"
    }
   ],
   "source": [
    "\"\"\"\n",
    "DON'T MODIFY ANYTHING IN THIS CELL\n",
    "\"\"\"\n",
    "%matplotlib inline\n",
    "%config InlineBackend.figure_format = 'retina'\n",
    "\n",
    "import tensorflow as tf\n",
    "import pickle\n",
    "import helper\n",
    "import random\n",
    "\n",
    "# Set batch size if not already set\n",
    "try:\n",
    "    if batch_size:\n",
    "        pass\n",
    "except NameError:\n",
    "    batch_size = 64\n",
    "\n",
    "save_model_path = './image_classification'\n",
    "n_samples = 4\n",
    "top_n_predictions = 3\n",
    "\n",
    "def test_model():\n",
    "    \"\"\"\n",
    "    Test the saved model against the test dataset\n",
    "    \"\"\"\n",
    "\n",
    "    test_features, test_labels = pickle.load(open('preprocess_training.p', mode='rb'))\n",
    "    loaded_graph = tf.Graph()\n",
    "\n",
    "    with tf.Session(graph=loaded_graph) as sess:\n",
    "        # Load model\n",
    "        loader = tf.train.import_meta_graph(save_model_path + '.meta')\n",
    "        loader.restore(sess, save_model_path)\n",
    "\n",
    "        # Get Tensors from loaded model\n",
    "        loaded_x = loaded_graph.get_tensor_by_name('x:0')\n",
    "        loaded_y = loaded_graph.get_tensor_by_name('y:0')\n",
    "        loaded_keep_prob = loaded_graph.get_tensor_by_name('keep_prob:0')\n",
    "        loaded_logits = loaded_graph.get_tensor_by_name('logits:0')\n",
    "        loaded_acc = loaded_graph.get_tensor_by_name('accuracy:0')\n",
    "        \n",
    "        # Get accuracy in batches for memory limitations\n",
    "        test_batch_acc_total = 0\n",
    "        test_batch_count = 0\n",
    "        \n",
    "        for train_feature_batch, train_label_batch in helper.batch_features_labels(test_features, test_labels, batch_size):\n",
    "            test_batch_acc_total += sess.run(\n",
    "                loaded_acc,\n",
    "                feed_dict={loaded_x: train_feature_batch, loaded_y: train_label_batch, loaded_keep_prob: 1.0})\n",
    "            test_batch_count += 1\n",
    "\n",
    "        print('Testing Accuracy: {}\\n'.format(test_batch_acc_total/test_batch_count))\n",
    "\n",
    "        # Print Random Samples\n",
    "        random_test_features, random_test_labels = tuple(zip(*random.sample(list(zip(test_features, test_labels)), n_samples)))\n",
    "        random_test_predictions = sess.run(\n",
    "            tf.nn.top_k(tf.nn.softmax(loaded_logits), top_n_predictions),\n",
    "            feed_dict={loaded_x: random_test_features, loaded_y: random_test_labels, loaded_keep_prob: 1.0})\n",
    "        helper.display_image_predictions(random_test_features, random_test_labels, random_test_predictions)\n",
    "\n",
    "\n",
    "test_model()"
   ]
  },
  {
   "cell_type": "markdown",
   "metadata": {
    "deletable": true,
    "editable": true
   },
   "source": [
    "## Why 50-80% Accuracy?\n",
    "You might be wondering why you can't get an accuracy any higher. First things first, 50% isn't bad for a simple CNN.  The model ended with a validation accuracy of 72.4% which is far improved from pure guessing which would get you 10% accuracy. "
   ]
  }
 ],
 "metadata": {
  "anaconda-cloud": {},
  "kernelspec": {
   "display_name": "Python [default]",
   "language": "python",
   "name": "python3"
  },
  "language_info": {
   "codemirror_mode": {
    "name": "ipython",
    "version": 3
   },
   "file_extension": ".py",
   "mimetype": "text/x-python",
   "name": "python",
   "nbconvert_exporter": "python",
   "pygments_lexer": "ipython3",
   "version": "3.5.2"
  }
 },
 "nbformat": 4,
 "nbformat_minor": 0
}
